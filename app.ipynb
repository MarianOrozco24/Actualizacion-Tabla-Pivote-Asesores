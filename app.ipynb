{
 "cells": [
  {
   "cell_type": "code",
   "execution_count": 89,
   "id": "d6b5fbcd",
   "metadata": {},
   "outputs": [
    {
     "data": {
      "text/plain": [
       "'❌✅'"
      ]
     },
     "execution_count": 89,
     "metadata": {},
     "output_type": "execute_result"
    }
   ],
   "source": [
    "import pandas as pd\n",
    "import mysql.connector.connection\n",
    "import traceback\n",
    "from datetime import datetime\n",
    "from env.desencriptar import desencriptar\n",
    "\"❌✅\""
   ]
  },
  {
   "cell_type": "markdown",
   "id": "b7fe0c71",
   "metadata": {},
   "source": [
    "CONFIGURACION"
   ]
  },
  {
   "cell_type": "code",
   "execution_count": null,
   "id": "684d8444",
   "metadata": {},
   "outputs": [
    {
     "name": "stdout",
     "output_type": "stream",
     "text": [
      "2025-04-20 00:00:00\n"
     ]
    }
   ],
   "source": [
    "fecha = '2025-04-20'\n",
    "publicar = 1"
   ]
  },
  {
   "cell_type": "code",
   "execution_count": 91,
   "id": "38869c61",
   "metadata": {},
   "outputs": [],
   "source": [
    "def guardar_en_txt(nombre_archivo, texto):\n",
    "    with open(nombre_archivo, 'a', encoding='utf-8') as archivo:\n",
    "        archivo.write(texto + '\\n')\n",
    "\n",
    "def conexion_db(host, user, password, database):\n",
    "    try:\n",
    "        cnx = mysql.connector.connect(host=host, user=user, password=password, database=database)\n",
    "        print(\"✅ Conexion a base de datos establecida\")\n",
    "        guardar_en_txt(\"registro_carga.txt\", f\"[{datetime.strptime(fecha, '%Y-%m-%d')}] - ✅ Se establecio correctamente la conexion a base de datos\")\n",
    "        return cnx\n",
    "    except Exception as erro_conection:\n",
    "        print(f\"❌ Ocurrio un error al intentar conectarse con la base de datos \\\n",
    "              Error: {erro_conection}\")\n",
    "        guardar_en_txt(\"registro_carga.txt\", f\"[{datetime.strptime(fecha, '%Y-%m-%d')}] - ❌ Ocurrio un error al conectarse a base de datos\")\n",
    "\n",
    "def insert_query(cnx, query, data):\n",
    "    try:\n",
    "        cursor = cnx.cursor()\n",
    "        cursor.executemany(query, data)\n",
    "        cnx.commit()\n",
    "        print(\"✅ Se insertaron correctamente los datos en la tabla pivote_tabla_asesores\")\n",
    "        guardar_en_txt(\"registro_carga.txt\", f\"[{datetime.strptime(fecha, '%Y-%m-%d')}] - ✅ Los datos fueron insertados correctamente\")\n",
    "    except Exception as error_insercion:\n",
    "        print(f\"❌ Ha ocurrido un error en la insercion de datos {error_insercion}\")\n",
    "        guardar_en_txt(\"registro_carga.txt\", f\"[{datetime.strptime(fecha, '%Y-%m-%d')}] - ❌ Ocurrio un error en la insercion de datos\")\n",
    "\n",
    "\n",
    "def data_extract (cnx, query):\n",
    "        try:\n",
    "            cursor = cnx.cursor()\n",
    "            cursor.execute(query)\n",
    "            resultado = cursor.fetchall()\n",
    "            if len(resultado) == 0:\n",
    "                print(\"⚠️ La consulta de extraccion vino vacia\")\n",
    "                exit()\n",
    "            else:\n",
    "                print(\"✅ Se extrajeron los datos correctamete\")\n",
    "                guardar_en_txt(\"registro_carga.txt\", f\"[{datetime.strptime(fecha, '%Y-%m-%d')}] - ✅ Se extrajeron correctamente los datos de db_omnia\")\n",
    "\n",
    "            return resultado\n",
    "        except Exception as extraction_error:\n",
    "            print(f\"❌ Ocurrio un error al extraer los datos de la base \\\n",
    "                  Error: {extraction_error}\")\n",
    "            guardar_en_txt(\"registro_carga.txt\", f\"[{datetime.strptime(fecha, '%Y-%m-%d')}] - ❌ Ocurrio un error a la hora de extraer los datos de db_omnia\")\n",
    "\n",
    "            \n",
    "def cerrar_conexion(cnx):\n",
    "    cnx.close()\n",
    "    print(\"✅ Se cerro la conexion a base de datos\")\n",
    "\n",
    "\n"
   ]
  },
  {
   "cell_type": "code",
   "execution_count": 92,
   "id": "37a2345e",
   "metadata": {},
   "outputs": [],
   "source": [
    "query_omnia = f\"\"\"\n",
    "SELECT legajo,\n",
    "documento, \n",
    "apellidos, \n",
    "nombres, \n",
    "area, \n",
    "puesto, \n",
    "sitio, \n",
    "equipo, \n",
    "cliente, \n",
    "usuario_neotel\n",
    "FROM asesores \n",
    "WHERE puesto = 'REPRESENTANTE' AND sub_campana = 'PORTABILIDAD' AND fecha_baja is null;\"\"\"\n",
    "columnas = [\"legajo\",\n",
    "\"documento\", \n",
    "\"apellidos\", \n",
    "\"nombres\", \n",
    "\"area\", \n",
    "\"puesto\", \n",
    "\"sitio\", \n",
    "\"equipo\", \n",
    "\"clientes\", \n",
    "\"usuario_neotel\"]"
   ]
  },
  {
   "cell_type": "code",
   "execution_count": 93,
   "id": "d501a92f",
   "metadata": {},
   "outputs": [
    {
     "name": "stdout",
     "output_type": "stream",
     "text": [
      "✅ Las credenciales se desencriptaron correctamente\n",
      "✅ Conexion a base de datos establecida\n",
      "✅ Se extrajeron los datos correctamete\n",
      "✅ Se cerro la conexion a base de datos\n"
     ]
    },
    {
     "data": {
      "text/html": [
       "<div>\n",
       "<style scoped>\n",
       "    .dataframe tbody tr th:only-of-type {\n",
       "        vertical-align: middle;\n",
       "    }\n",
       "\n",
       "    .dataframe tbody tr th {\n",
       "        vertical-align: top;\n",
       "    }\n",
       "\n",
       "    .dataframe thead th {\n",
       "        text-align: right;\n",
       "    }\n",
       "</style>\n",
       "<table border=\"1\" class=\"dataframe\">\n",
       "  <thead>\n",
       "    <tr style=\"text-align: right;\">\n",
       "      <th></th>\n",
       "      <th>legajo</th>\n",
       "      <th>documento</th>\n",
       "      <th>apellidos</th>\n",
       "      <th>nombres</th>\n",
       "      <th>area</th>\n",
       "      <th>puesto</th>\n",
       "      <th>sitio</th>\n",
       "      <th>equipo</th>\n",
       "      <th>clientes</th>\n",
       "      <th>usuario_neotel</th>\n",
       "      <th>fecha</th>\n",
       "    </tr>\n",
       "  </thead>\n",
       "  <tbody>\n",
       "    <tr>\n",
       "      <th>0</th>\n",
       "      <td>1600</td>\n",
       "      <td>19113210</td>\n",
       "      <td>RESTREPO ORDOSGOITIA</td>\n",
       "      <td>ARIANA ESTEFANNY</td>\n",
       "      <td>OPERACIONES</td>\n",
       "      <td>REPRESENTANTE</td>\n",
       "      <td>SAN RAFAEL</td>\n",
       "      <td>MAGNATERRA, EMILSE JULIETA (40296981)</td>\n",
       "      <td>MOVISTAR</td>\n",
       "      <td>1093</td>\n",
       "      <td>2025-04-20</td>\n",
       "    </tr>\n",
       "    <tr>\n",
       "      <th>1</th>\n",
       "      <td>884</td>\n",
       "      <td>19116652</td>\n",
       "      <td>APABLAZA GEREZ</td>\n",
       "      <td>ELIZABETH SABRINA</td>\n",
       "      <td>OPERACIONES</td>\n",
       "      <td>REPRESENTANTE</td>\n",
       "      <td>SAN RAFAEL</td>\n",
       "      <td>RISELLI, LUCAS (39346102)</td>\n",
       "      <td>MOVISTAR</td>\n",
       "      <td>1173</td>\n",
       "      <td>2025-04-20</td>\n",
       "    </tr>\n",
       "    <tr>\n",
       "      <th>2</th>\n",
       "      <td>932</td>\n",
       "      <td>26305314</td>\n",
       "      <td>MORENO</td>\n",
       "      <td>PAOLA BEATRIZ</td>\n",
       "      <td>OPERACIONES</td>\n",
       "      <td>REPRESENTANTE</td>\n",
       "      <td>SAN RAFAEL</td>\n",
       "      <td>GONZALEZ, ANDREA DENISE (41285468)</td>\n",
       "      <td>MOVISTAR</td>\n",
       "      <td>1157</td>\n",
       "      <td>2025-04-20</td>\n",
       "    </tr>\n",
       "    <tr>\n",
       "      <th>3</th>\n",
       "      <td>863</td>\n",
       "      <td>28367210</td>\n",
       "      <td>RUSSO</td>\n",
       "      <td>MARIA VERONICA</td>\n",
       "      <td>OPERACIONES</td>\n",
       "      <td>REPRESENTANTE</td>\n",
       "      <td>SAN RAFAEL</td>\n",
       "      <td>GONZALEZ, ANDREA DENISE (41285468)</td>\n",
       "      <td>MOVISTAR</td>\n",
       "      <td>1014</td>\n",
       "      <td>2025-04-20</td>\n",
       "    </tr>\n",
       "    <tr>\n",
       "      <th>4</th>\n",
       "      <td>684</td>\n",
       "      <td>28634033</td>\n",
       "      <td>CHOQUE</td>\n",
       "      <td>LUCAS RODRIGO</td>\n",
       "      <td>OPERACIONES</td>\n",
       "      <td>REPRESENTANTE</td>\n",
       "      <td>SAN RAFAEL</td>\n",
       "      <td>MAGNATERRA, EMILSE JULIETA (40296981)</td>\n",
       "      <td>MOVISTAR</td>\n",
       "      <td>1101</td>\n",
       "      <td>2025-04-20</td>\n",
       "    </tr>\n",
       "  </tbody>\n",
       "</table>\n",
       "</div>"
      ],
      "text/plain": [
       "   legajo  documento             apellidos            nombres         area  \\\n",
       "0    1600   19113210  RESTREPO ORDOSGOITIA   ARIANA ESTEFANNY  OPERACIONES   \n",
       "1     884   19116652        APABLAZA GEREZ  ELIZABETH SABRINA  OPERACIONES   \n",
       "2     932   26305314                MORENO      PAOLA BEATRIZ  OPERACIONES   \n",
       "3     863   28367210                 RUSSO     MARIA VERONICA  OPERACIONES   \n",
       "4     684   28634033                CHOQUE      LUCAS RODRIGO  OPERACIONES   \n",
       "\n",
       "          puesto       sitio                                 equipo  clientes  \\\n",
       "0  REPRESENTANTE  SAN RAFAEL  MAGNATERRA, EMILSE JULIETA (40296981)  MOVISTAR   \n",
       "1  REPRESENTANTE  SAN RAFAEL              RISELLI, LUCAS (39346102)  MOVISTAR   \n",
       "2  REPRESENTANTE  SAN RAFAEL     GONZALEZ, ANDREA DENISE (41285468)  MOVISTAR   \n",
       "3  REPRESENTANTE  SAN RAFAEL     GONZALEZ, ANDREA DENISE (41285468)  MOVISTAR   \n",
       "4  REPRESENTANTE  SAN RAFAEL  MAGNATERRA, EMILSE JULIETA (40296981)  MOVISTAR   \n",
       "\n",
       "   usuario_neotel       fecha  \n",
       "0            1093  2025-04-20  \n",
       "1            1173  2025-04-20  \n",
       "2            1157  2025-04-20  \n",
       "3            1014  2025-04-20  \n",
       "4            1101  2025-04-20  "
      ]
     },
     "execution_count": 93,
     "metadata": {},
     "output_type": "execute_result"
    }
   ],
   "source": [
    "# Tiramos un espacio en el txt para mantener la prolijidad\n",
    "guardar_en_txt(\"registro_carga.txt\", \"\\n\")\n",
    "cred = desencriptar()\n",
    "## Consumimos datos de la tabla db_omnia para realizar la actualizacion a la tabla pivote\n",
    "cnx = conexion_db(cred['host'], cred['user'], cred['password'], cred['database_omnia'])\n",
    "result = data_extract(cnx, query_omnia)\n",
    "cerrar_conexion(cnx)\n",
    "omnia = pd.DataFrame(result, columns=columnas)\n",
    "omnia = omnia.astype({\"legajo\": int, \"documento\" : int, \"usuario_neotel\" : int})\n",
    "omnia[\"fecha\"] = fecha \n",
    "omnia.head()"
   ]
  },
  {
   "cell_type": "markdown",
   "id": "2c39e4ab",
   "metadata": {},
   "source": [
    "CARGA DB\n"
   ]
  },
  {
   "cell_type": "code",
   "execution_count": 94,
   "id": "ecae519c",
   "metadata": {},
   "outputs": [],
   "source": [
    "data = [tuple(row) for row in omnia.values]\n",
    "\n",
    "# placeholders\n",
    "placeholder = ', '.join(['%s' for col in omnia.columns])\n",
    "\n",
    "# columnas_str\n",
    "columnas_str = ', '.join(omnia.columns)\n",
    "query_insert_pivote = f\"INSERT INTO pivote_tabla_asesores({columnas_str}) VALUES ({placeholder})\""
   ]
  },
  {
   "cell_type": "code",
   "execution_count": 95,
   "id": "55adc9fd",
   "metadata": {},
   "outputs": [
    {
     "name": "stdout",
     "output_type": "stream",
     "text": [
      "✅ Conexion a base de datos establecida\n",
      "✅ Se insertaron correctamente los datos en la tabla pivote_tabla_asesores\n",
      "✅ Se cerro la conexion a base de datos\n"
     ]
    }
   ],
   "source": [
    "if publicar == 1:    \n",
    "    cnx = conexion_db(cred['host'], cred['user'], cred['password'], cred['database_porta'])\n",
    "    insert_query(cnx, query_insert_pivote, data)\n",
    "    cerrar_conexion(cnx)\n"
   ]
  }
 ],
 "metadata": {
  "kernelspec": {
   "display_name": ".venv",
   "language": "python",
   "name": "python3"
  },
  "language_info": {
   "codemirror_mode": {
    "name": "ipython",
    "version": 3
   },
   "file_extension": ".py",
   "mimetype": "text/x-python",
   "name": "python",
   "nbconvert_exporter": "python",
   "pygments_lexer": "ipython3",
   "version": "3.10.5"
  }
 },
 "nbformat": 4,
 "nbformat_minor": 5
}
